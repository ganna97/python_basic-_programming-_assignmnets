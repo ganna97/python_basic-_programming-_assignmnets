{
 "cells": [
  {
   "cell_type": "markdown",
   "id": "46828df4",
   "metadata": {},
   "source": [
    "# 1. Write a Python program to print &quot;Hello Python&quot;?"
   ]
  },
  {
   "cell_type": "code",
   "execution_count": 1,
   "id": "de60e2f0",
   "metadata": {},
   "outputs": [
    {
     "name": "stdout",
     "output_type": "stream",
     "text": [
      "Hello Python\n"
     ]
    }
   ],
   "source": [
    "a=\"Hello Python\"\n",
    "print(a)"
   ]
  },
  {
   "cell_type": "markdown",
   "id": "772107d6",
   "metadata": {},
   "source": [
    "# 2. Write a Python program to do arithmetical operations addition and division.?"
   ]
  },
  {
   "cell_type": "code",
   "execution_count": 3,
   "id": "e4eeb624",
   "metadata": {},
   "outputs": [
    {
     "name": "stdout",
     "output_type": "stream",
     "text": [
      "enter value for a: 4\n",
      "enter value for b: 5\n",
      "4 + 5 = 9\n"
     ]
    }
   ],
   "source": [
    "# addition of the two numbers\n",
    "def add(a,b):\n",
    "    c= a+b\n",
    "    print(\"{} + {} = {}\".format(a,b,c))\n",
    "    \n",
    "a= int(input(\"enter value for a: \"))\n",
    "b= int(input(\"enter value for b: \"))\n",
    "add(a,b)"
   ]
  },
  {
   "cell_type": "code",
   "execution_count": 5,
   "id": "c1c53bca",
   "metadata": {},
   "outputs": [
    {
     "name": "stdout",
     "output_type": "stream",
     "text": [
      "enter value for a: 5\n",
      "enter value for b: 8\n",
      "5 + 8 = 0.62\n"
     ]
    }
   ],
   "source": [
    "# division of the two numbers\n",
    "def division(a,b):\n",
    "    c= round(a/b,2)\n",
    "    print(\"{} + {} = {}\".format(a,b,c))\n",
    "    \n",
    "a= int(input(\"enter value for a: \"))\n",
    "b= int(input(\"enter value for b: \"))\n",
    "division(a,b)"
   ]
  },
  {
   "cell_type": "markdown",
   "id": "aff09946",
   "metadata": {},
   "source": [
    "# 3. Write a Python program to find the area of a triangle?"
   ]
  },
  {
   "cell_type": "code",
   "execution_count": 6,
   "id": "e3dfe61d",
   "metadata": {},
   "outputs": [],
   "source": [
    "import numpy as np"
   ]
  },
  {
   "cell_type": "code",
   "execution_count": 8,
   "id": "f2d1f61b",
   "metadata": {},
   "outputs": [
    {
     "name": "stdout",
     "output_type": "stream",
     "text": [
      "enter value for a: 1\n",
      "enter value for b: 2\n",
      "enter value for c: 3\n",
      "area of the traingle is: 2.45\n"
     ]
    }
   ],
   "source": [
    "def a_traingle(a,b,c):\n",
    "    s= (a+b+c)/2\n",
    "    area=round(np.sqrt(s*(s-a)*(s-b)*(s-b)),2)\n",
    "    print(\"area of the traingle is: {}\".format(area))\n",
    "a= int(input(\"enter value for a: \"))\n",
    "b= int(input(\"enter value for b: \"))\n",
    "c= int(input(\"enter value for c: \"))\n",
    "a_traingle(a,b,c)"
   ]
  },
  {
   "cell_type": "markdown",
   "id": "a1ac3baf",
   "metadata": {},
   "source": [
    "# 4. Write a Python program to swap two variables?"
   ]
  },
  {
   "cell_type": "code",
   "execution_count": 9,
   "id": "42d41a08",
   "metadata": {},
   "outputs": [
    {
     "name": "stdout",
     "output_type": "stream",
     "text": [
      "enter value for a: 3\n",
      "enter value for b: 4\n",
      "before swaping a value is 3 and b value is 4\n",
      "after swaping a value is 4 and b value is 3\n"
     ]
    }
   ],
   "source": [
    "def swap(a,b):\n",
    "    print(\"before swaping a value is {} and b value is {}\".format(a,b))\n",
    "    temp=a\n",
    "    a=b\n",
    "    b=temp\n",
    "    print(\"after swaping a value is {} and b value is {}\".format(a,b))\n",
    "a= int(input(\"enter value for a: \"))\n",
    "b= int(input(\"enter value for b: \"))\n",
    "swap(a,b)"
   ]
  },
  {
   "cell_type": "code",
   "execution_count": 10,
   "id": "f8632cdd",
   "metadata": {},
   "outputs": [],
   "source": [
    "#5. Write a Python program to generate a random number?"
   ]
  },
  {
   "cell_type": "code",
   "execution_count": 11,
   "id": "48dfa7cf",
   "metadata": {},
   "outputs": [],
   "source": [
    "import random"
   ]
  },
  {
   "cell_type": "code",
   "execution_count": 16,
   "id": "f9d8f14c",
   "metadata": {},
   "outputs": [],
   "source": [
    "# to generate the random number 0 to 1\n",
    "n=random.random()"
   ]
  },
  {
   "cell_type": "code",
   "execution_count": 18,
   "id": "0d77982d",
   "metadata": {},
   "outputs": [
    {
     "name": "stdout",
     "output_type": "stream",
     "text": [
      "0.9993506078326262\n"
     ]
    }
   ],
   "source": [
    "print(n)"
   ]
  },
  {
   "cell_type": "code",
   "execution_count": 19,
   "id": "bed3e523",
   "metadata": {},
   "outputs": [],
   "source": [
    "# to generate random number with in a range\n",
    "n = random.randint(0,50)  "
   ]
  },
  {
   "cell_type": "code",
   "execution_count": 20,
   "id": "cf086888",
   "metadata": {},
   "outputs": [
    {
     "name": "stdout",
     "output_type": "stream",
     "text": [
      "49\n"
     ]
    }
   ],
   "source": [
    "print(n)"
   ]
  },
  {
   "cell_type": "code",
   "execution_count": null,
   "id": "14b28b70",
   "metadata": {},
   "outputs": [],
   "source": []
  }
 ],
 "metadata": {
  "kernelspec": {
   "display_name": "Python 3 (ipykernel)",
   "language": "python",
   "name": "python3"
  },
  "language_info": {
   "codemirror_mode": {
    "name": "ipython",
    "version": 3
   },
   "file_extension": ".py",
   "mimetype": "text/x-python",
   "name": "python",
   "nbconvert_exporter": "python",
   "pygments_lexer": "ipython3",
   "version": "3.9.12"
  }
 },
 "nbformat": 4,
 "nbformat_minor": 5
}
