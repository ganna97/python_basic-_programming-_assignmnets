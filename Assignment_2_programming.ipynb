{
 "cells": [
  {
   "cell_type": "markdown",
   "id": "6e3b6619",
   "metadata": {},
   "source": [
    "# Assignment 2"
   ]
  },
  {
   "cell_type": "markdown",
   "id": "baa5f5f3",
   "metadata": {},
   "source": [
    "# 1.Write a Python program to convert kilometers to miles?"
   ]
  },
  {
   "cell_type": "code",
   "execution_count": 8,
   "id": "f992abe4",
   "metadata": {},
   "outputs": [
    {
     "name": "stdout",
     "output_type": "stream",
     "text": [
      "enter the number of Kilometers: 87\n",
      "87 kilometers is equal to 54.06 miles\n"
     ]
    }
   ],
   "source": [
    "def get_miles(km):\n",
    "    miles= round(km*1000/1609.344,2)\n",
    "    print(\"{} kilometers is equal to {} miles\".format(km, miles))\n",
    "km= int(input(\"enter the number of Kilometers: \"))\n",
    "get_miles(km)\n",
    "\n"
   ]
  },
  {
   "cell_type": "markdown",
   "id": "f9fe0bd0",
   "metadata": {},
   "source": [
    "# 2. Write a Python program to convert Celsius to Fahrenheit?"
   ]
  },
  {
   "cell_type": "code",
   "execution_count": 9,
   "id": "9f35d1c0",
   "metadata": {},
   "outputs": [
    {
     "name": "stdout",
     "output_type": "stream",
     "text": [
      "enter the Celsius: 78\n",
      "78 Celsius is eual to 172.4 Fahrenheit\n"
     ]
    }
   ],
   "source": [
    "def get_Fahrenheit(Celsius):\n",
    "    Fahrenheit= (Celsius*(9/5))+32\n",
    "    print(\"{} Celsius is eual to {} Fahrenheit\".format(Celsius,Fahrenheit))\n",
    "Celsius= int(input(\"enter the Celsius: \"))\n",
    "get_Fahrenheit(Celsius)"
   ]
  },
  {
   "cell_type": "markdown",
   "id": "60319b51",
   "metadata": {},
   "source": [
    "# 3. Write a Python program to display calendar?"
   ]
  },
  {
   "cell_type": "code",
   "execution_count": 17,
   "id": "842ce079",
   "metadata": {},
   "outputs": [],
   "source": [
    "import calendar"
   ]
  },
  {
   "cell_type": "code",
   "execution_count": 32,
   "id": "2e3ee053",
   "metadata": {},
   "outputs": [
    {
     "name": "stdout",
     "output_type": "stream",
     "text": [
      "enter the year: 2000\n",
      "enter the month number: 12\n",
      "   December 2000\n",
      "Mo Tu We Th Fr Sa Su\n",
      "             1  2  3\n",
      " 4  5  6  7  8  9 10\n",
      "11 12 13 14 15 16 17\n",
      "18 19 20 21 22 23 24\n",
      "25 26 27 28 29 30 31\n",
      "\n"
     ]
    }
   ],
   "source": [
    "def get_month_calendar(year, month):\n",
    "    a=calendar.month(year, month)\n",
    "    print(a)\n",
    "year= int(input(\"enter the year: \"))\n",
    "month= int(input(\"enter the month number: \"))\n",
    "get_month_calendar(year, month)\n"
   ]
  },
  {
   "cell_type": "code",
   "execution_count": 34,
   "id": "ae16a493",
   "metadata": {},
   "outputs": [
    {
     "name": "stdout",
     "output_type": "stream",
     "text": [
      "enter the required year calendar: 2022\n",
      "                                  2022\n",
      "\n",
      "      January                   February                   March\n",
      "Mo Tu We Th Fr Sa Su      Mo Tu We Th Fr Sa Su      Mo Tu We Th Fr Sa Su\n",
      "                1  2          1  2  3  4  5  6          1  2  3  4  5  6\n",
      " 3  4  5  6  7  8  9       7  8  9 10 11 12 13       7  8  9 10 11 12 13\n",
      "10 11 12 13 14 15 16      14 15 16 17 18 19 20      14 15 16 17 18 19 20\n",
      "17 18 19 20 21 22 23      21 22 23 24 25 26 27      21 22 23 24 25 26 27\n",
      "24 25 26 27 28 29 30      28                        28 29 30 31\n",
      "31\n",
      "\n",
      "       April                      May                       June\n",
      "Mo Tu We Th Fr Sa Su      Mo Tu We Th Fr Sa Su      Mo Tu We Th Fr Sa Su\n",
      "             1  2  3                         1             1  2  3  4  5\n",
      " 4  5  6  7  8  9 10       2  3  4  5  6  7  8       6  7  8  9 10 11 12\n",
      "11 12 13 14 15 16 17       9 10 11 12 13 14 15      13 14 15 16 17 18 19\n",
      "18 19 20 21 22 23 24      16 17 18 19 20 21 22      20 21 22 23 24 25 26\n",
      "25 26 27 28 29 30         23 24 25 26 27 28 29      27 28 29 30\n",
      "                          30 31\n",
      "\n",
      "        July                     August                  September\n",
      "Mo Tu We Th Fr Sa Su      Mo Tu We Th Fr Sa Su      Mo Tu We Th Fr Sa Su\n",
      "             1  2  3       1  2  3  4  5  6  7                1  2  3  4\n",
      " 4  5  6  7  8  9 10       8  9 10 11 12 13 14       5  6  7  8  9 10 11\n",
      "11 12 13 14 15 16 17      15 16 17 18 19 20 21      12 13 14 15 16 17 18\n",
      "18 19 20 21 22 23 24      22 23 24 25 26 27 28      19 20 21 22 23 24 25\n",
      "25 26 27 28 29 30 31      29 30 31                  26 27 28 29 30\n",
      "\n",
      "      October                   November                  December\n",
      "Mo Tu We Th Fr Sa Su      Mo Tu We Th Fr Sa Su      Mo Tu We Th Fr Sa Su\n",
      "                1  2          1  2  3  4  5  6                1  2  3  4\n",
      " 3  4  5  6  7  8  9       7  8  9 10 11 12 13       5  6  7  8  9 10 11\n",
      "10 11 12 13 14 15 16      14 15 16 17 18 19 20      12 13 14 15 16 17 18\n",
      "17 18 19 20 21 22 23      21 22 23 24 25 26 27      19 20 21 22 23 24 25\n",
      "24 25 26 27 28 29 30      28 29 30                  26 27 28 29 30 31\n",
      "31\n",
      "\n"
     ]
    }
   ],
   "source": [
    "#To get yearly calendar\n",
    "def get_yearly_calendar(year):\n",
    "    a=calendar.calendar(year)\n",
    "    print(a)\n",
    "year= int(input(\"enter the required year calendar: \"))\n",
    "get_yearly_calendar(year)"
   ]
  },
  {
   "cell_type": "markdown",
   "id": "94864f19",
   "metadata": {},
   "source": [
    "# 4. Write a Python program to solve quadratic equation?"
   ]
  },
  {
   "cell_type": "code",
   "execution_count": 42,
   "id": "0499b34b",
   "metadata": {},
   "outputs": [],
   "source": [
    "import numpy as np\n",
    "import cmath"
   ]
  },
  {
   "cell_type": "code",
   "execution_count": 48,
   "id": "8b6aa707",
   "metadata": {},
   "outputs": [
    {
     "name": "stdout",
     "output_type": "stream",
     "text": [
      "enter value for a: 0\n",
      "enter value for b: 2\n",
      "enter value for c: 3\n",
      "please provide appropriately value of a, which is not equal to zero\n"
     ]
    }
   ],
   "source": [
    "a= int(input(\"enter value for a: \"))\n",
    "b= int(input(\"enter value for b: \"))\n",
    "c= int(input(\"enter value for c: \"))\n",
    "d= b*b-4*a*c\n",
    "if a==0:\n",
    "    print(\"please provide appropriate value of a, which is not equal to zero\")\n",
    "else:\n",
    "    def roots(a,b,c):\n",
    "        x=(-b+cmath.sqrt(d))/2*a\n",
    "        y=(-b-cmath.sqrt(d))/2*a\n",
    "        print(\"root one is {} and root two is {}\".format(x,y))\n",
    "\n",
    "    if (d>0):\n",
    "        print(\"roots are real and not equal\")\n",
    "        roots(a,b,c)\n",
    "\n",
    "    elif (d==0):\n",
    "        print(\"roots are real and equal\")\n",
    "        roots(a,b,c)\n",
    "    else:\n",
    "        print(\"roots are complex\")\n",
    "        roots(a,b,c)\n"
   ]
  },
  {
   "cell_type": "markdown",
   "id": "7df7db28",
   "metadata": {},
   "source": [
    "# 5. Write a Python program to swap two variables without temp variable?"
   ]
  },
  {
   "cell_type": "code",
   "execution_count": 12,
   "id": "a6fab4cb",
   "metadata": {},
   "outputs": [
    {
     "name": "stdout",
     "output_type": "stream",
     "text": [
      "enter value for a: 5\n",
      "enter the vaalue for b: 6\n",
      "before swaping a value is 5 and b value is 6\n",
      "after swaping a value is 6 and b value is 5\n"
     ]
    }
   ],
   "source": [
    "#5. Write a Python program to swap two variables without temp variable?\n",
    "a=int(input(\"enter value for a: \"))\n",
    "b= int(input(\"enter the vaalue for b: \"))\n",
    "print(\"before swaping a value is {} and b value is {}\".format(a,b))\n",
    "a,b=b,a\n",
    "print(\"after swaping a value is {} and b value is {}\".format(a,b))"
   ]
  }
 ],
 "metadata": {
  "kernelspec": {
   "display_name": "Python 3 (ipykernel)",
   "language": "python",
   "name": "python3"
  },
  "language_info": {
   "codemirror_mode": {
    "name": "ipython",
    "version": 3
   },
   "file_extension": ".py",
   "mimetype": "text/x-python",
   "name": "python",
   "nbconvert_exporter": "python",
   "pygments_lexer": "ipython3",
   "version": "3.9.12"
  }
 },
 "nbformat": 4,
 "nbformat_minor": 5
}
