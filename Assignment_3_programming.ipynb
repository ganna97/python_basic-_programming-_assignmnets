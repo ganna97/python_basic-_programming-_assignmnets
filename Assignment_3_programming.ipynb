{
 "cells": [
  {
   "cell_type": "markdown",
   "id": "f06cf21d",
   "metadata": {},
   "source": [
    "# 1. Write a Python Program to Check if a Number is Positive, Negative or Zero?\n"
   ]
  },
  {
   "cell_type": "code",
   "execution_count": 3,
   "id": "2821aff1",
   "metadata": {},
   "outputs": [
    {
     "name": "stdout",
     "output_type": "stream",
     "text": [
      "give a number: 0\n",
      "0 is a Zero\n"
     ]
    }
   ],
   "source": [
    "a= int(input(\"give a number: \"))\n",
    "if a>0:\n",
    "    print(\"{} is a positive number\".format(a))\n",
    "elif a<0:\n",
    "    print(\"{} is a negitive number\".format(a))\n",
    "else:\n",
    "    print(\"{} is a Zero\".format(a))"
   ]
  },
  {
   "cell_type": "markdown",
   "id": "ab2fe442",
   "metadata": {},
   "source": [
    "# 2. Write a Python Program to Check if a Number is Odd or Even?\n"
   ]
  },
  {
   "cell_type": "code",
   "execution_count": 4,
   "id": "ba964d2a",
   "metadata": {},
   "outputs": [
    {
     "name": "stdout",
     "output_type": "stream",
     "text": [
      "give a number: 1234\n",
      "1234 is even number\n"
     ]
    }
   ],
   "source": [
    "a= int(input(\"give a number: \"))\n",
    "if a%2==0:\n",
    "    print(\"{} is even number\".format(a))\n",
    "else:\n",
    "    print(\"{} is odd number\".format(a))"
   ]
  },
  {
   "cell_type": "markdown",
   "id": "d50ad021",
   "metadata": {},
   "source": [
    "# 3. Write a Python Program to Check Leap Year?\n"
   ]
  },
  {
   "cell_type": "code",
   "execution_count": 18,
   "id": "4f0520ed",
   "metadata": {},
   "outputs": [
    {
     "name": "stdout",
     "output_type": "stream",
     "text": [
      "give a number: 1952\n",
      "1952 is leaf year\n"
     ]
    }
   ],
   "source": [
    "a= int(input(\"give a number: \"))\n",
    "if (a%400==0 or a%100!=0 and a%4==0):\n",
    "    print(\"{} is leaf year\".format(a))\n",
    "else:\n",
    "    print(\"{} is leaf year\".format(a))"
   ]
  },
  {
   "cell_type": "markdown",
   "id": "da4e1f52",
   "metadata": {},
   "source": [
    "# 4. Write a Python Program to Check Prime Number?\n"
   ]
  },
  {
   "cell_type": "code",
   "execution_count": 6,
   "id": "6e6762f4",
   "metadata": {},
   "outputs": [
    {
     "name": "stdout",
     "output_type": "stream",
     "text": [
      "give a number: 13\n",
      "13 is a prime number\n"
     ]
    }
   ],
   "source": [
    "a= int(input(\"give a number: \"))\n",
    "for i in range(2,a-1):\n",
    "    if a%i==0:\n",
    "        print(\"{} is not a prime number\".format(a))\n",
    "        break\n",
    "else:\n",
    "    print(\"{} is a prime number\".format(a))"
   ]
  },
  {
   "cell_type": "markdown",
   "id": "d142bf78",
   "metadata": {},
   "source": [
    "# 5. Write a Python Program to Print all Prime Numbers in an Interval of 1-10000?"
   ]
  },
  {
   "cell_type": "code",
   "execution_count": 23,
   "id": "e7d14713",
   "metadata": {},
   "outputs": [
    {
     "name": "stdout",
     "output_type": "stream",
     "text": [
      "give a number: 12\n",
      "[ 2 , 3 , 5 , 7 , 11 , ]\n"
     ]
    }
   ],
   "source": [
    "a= int(input(\"give a number: \"))\n",
    "prime=[2]\n",
    "for i in range(3,a):\n",
    "    for j in range(2,i-1):\n",
    "        if i%j ==0:\n",
    "            break\n",
    "    else:\n",
    "        prime.append(i)\n",
    "print(\"[\", end=\" \")\n",
    "for i in prime:\n",
    "    print(i,\",\", end=\" \")\n",
    "print(\"]\")"
   ]
  },
  {
   "cell_type": "code",
   "execution_count": null,
   "id": "4545c01c",
   "metadata": {},
   "outputs": [],
   "source": []
  },
  {
   "cell_type": "code",
   "execution_count": null,
   "id": "756a6c95",
   "metadata": {},
   "outputs": [],
   "source": []
  }
 ],
 "metadata": {
  "kernelspec": {
   "display_name": "Python 3 (ipykernel)",
   "language": "python",
   "name": "python3"
  },
  "language_info": {
   "codemirror_mode": {
    "name": "ipython",
    "version": 3
   },
   "file_extension": ".py",
   "mimetype": "text/x-python",
   "name": "python",
   "nbconvert_exporter": "python",
   "pygments_lexer": "ipython3",
   "version": "3.9.12"
  }
 },
 "nbformat": 4,
 "nbformat_minor": 5
}
