{
 "cells": [
  {
   "cell_type": "markdown",
   "id": "4d3262e6",
   "metadata": {},
   "source": [
    "# 1. Write a Python Program to Find the Factorial of a Number?\n"
   ]
  },
  {
   "cell_type": "code",
   "execution_count": 1,
   "id": "6b9d08d7",
   "metadata": {},
   "outputs": [
    {
     "name": "stdout",
     "output_type": "stream",
     "text": [
      "enter n value: 5\n",
      "120\n"
     ]
    }
   ],
   "source": [
    "def fact(n):\n",
    "    if (n==0 or n==1):\n",
    "        return 1\n",
    "    else:\n",
    "        return n*fact(n-1)\n",
    "n= int(input(\"enter n value: \"))\n",
    "print(fact(n))\n",
    "    "
   ]
  },
  {
   "cell_type": "markdown",
   "id": "528da28f",
   "metadata": {},
   "source": [
    "# 2. Write a Python Program to Display the multiplication Table?\n"
   ]
  },
  {
   "cell_type": "code",
   "execution_count": 2,
   "id": "e11a0e08",
   "metadata": {},
   "outputs": [
    {
     "name": "stdout",
     "output_type": "stream",
     "text": [
      "enter the n value8\n",
      "8th multiplication table\n",
      "8 * 0 = 0\n",
      "8 * 1 = 8\n",
      "8 * 2 = 16\n",
      "8 * 3 = 24\n",
      "8 * 4 = 32\n",
      "8 * 5 = 40\n",
      "8 * 6 = 48\n",
      "8 * 7 = 56\n",
      "8 * 8 = 64\n",
      "8 * 9 = 72\n",
      "8 * 10 = 80\n"
     ]
    }
   ],
   "source": [
    "def table():\n",
    "    n= int(input(\"enter the n value\"))\n",
    "    print(\"{}th multiplication table\".format(n))\n",
    "    for i in range(11):\n",
    "        a=n*i\n",
    "        print(\"{} * {} = {}\".format(n,i,a))\n",
    "        \n",
    "table()  \n",
    "    "
   ]
  },
  {
   "cell_type": "markdown",
   "id": "57e7e223",
   "metadata": {},
   "source": [
    "# 3. Write a Python Program to Print the Fibonacci sequence?\n"
   ]
  },
  {
   "cell_type": "code",
   "execution_count": 10,
   "id": "ad5a7d74",
   "metadata": {},
   "outputs": [
    {
     "name": "stdout",
     "output_type": "stream",
     "text": [
      "15\n",
      "0  1  1  2  3  5  8  13  21  "
     ]
    }
   ],
   "source": [
    "a=0\n",
    "b=1\n",
    "temp=0\n",
    "n= int(input())\n",
    "while temp<n:\n",
    "    temp=temp+a\n",
    "    a=b\n",
    "    b=temp\n",
    "    print(temp, \" \", end=\"\")"
   ]
  },
  {
   "cell_type": "code",
   "execution_count": null,
   "id": "3dfcc4d6",
   "metadata": {},
   "outputs": [],
   "source": [
    "4. Write a Python Program to Check Armstrong Number?\n"
   ]
  },
  {
   "cell_type": "code",
   "execution_count": 25,
   "id": "9d89d942",
   "metadata": {},
   "outputs": [
    {
     "name": "stdout",
     "output_type": "stream",
     "text": [
      "1634\n",
      "1634 is not a Armstrong Number\n"
     ]
    }
   ],
   "source": [
    "n= int(input())\n",
    "temp=n\n",
    "x=0\n",
    "while n>0:\n",
    "    i=n%10\n",
    "    x=x+i*i*i\n",
    "    n=n//10\n",
    "if temp==x:\n",
    "    print(\"{} is a Armstrong Number\".format(temp))\n",
    "else:\n",
    "    print(\"{} is not a Armstrong Number\".format(temp))"
   ]
  },
  {
   "cell_type": "markdown",
   "id": "42137c64",
   "metadata": {},
   "source": [
    "# 5. Write a Python Program to Find Armstrong Number in an Interval?\n"
   ]
  },
  {
   "cell_type": "code",
   "execution_count": 24,
   "id": "a4e380d2",
   "metadata": {},
   "outputs": [
    {
     "name": "stdout",
     "output_type": "stream",
     "text": [
      "11\n",
      "100000\n",
      "153 is a Armstrong Number\n",
      "370 is a Armstrong Number\n",
      "371 is a Armstrong Number\n",
      "407 is a Armstrong Number\n"
     ]
    },
    {
     "data": {
      "text/plain": [
       "[153, 370, 371, 407]"
      ]
     },
     "execution_count": 24,
     "metadata": {},
     "output_type": "execute_result"
    }
   ],
   "source": [
    "start=int(input())\n",
    "end= int(input())\n",
    "armstrong=[]\n",
    "for i in range(start, end):\n",
    "    temp=i\n",
    "    x=0\n",
    "    while i>0:\n",
    "        y=i%10\n",
    "        x=x+y*y*y\n",
    "        i=i//10\n",
    "    if temp==x:\n",
    "        #print(\"{} is a Armstrong Number\".format(temp))\n",
    "        armstrong.append(temp)\n",
    "armstrong   "
   ]
  },
  {
   "cell_type": "markdown",
   "id": "df2ce544",
   "metadata": {},
   "source": [
    "# 6. Write a Python Program to Find the Sum of Natural Numbers?"
   ]
  },
  {
   "cell_type": "code",
   "execution_count": 28,
   "id": "023ce847",
   "metadata": {},
   "outputs": [
    {
     "name": "stdout",
     "output_type": "stream",
     "text": [
      "enter the value for n1000\n",
      "sum of 500500 natural numbers is\n"
     ]
    }
   ],
   "source": [
    "n= int(input(\"enter the value for n\"))\n",
    "def sumn(n):\n",
    "    sum= int(n*(n+1)/2)\n",
    "    print(\"sum of {} natural numbers is\".format(sum))\n",
    "sumn(n)"
   ]
  },
  {
   "cell_type": "code",
   "execution_count": null,
   "id": "66443db1",
   "metadata": {},
   "outputs": [],
   "source": []
  }
 ],
 "metadata": {
  "kernelspec": {
   "display_name": "Python 3 (ipykernel)",
   "language": "python",
   "name": "python3"
  },
  "language_info": {
   "codemirror_mode": {
    "name": "ipython",
    "version": 3
   },
   "file_extension": ".py",
   "mimetype": "text/x-python",
   "name": "python",
   "nbconvert_exporter": "python",
   "pygments_lexer": "ipython3",
   "version": "3.9.12"
  }
 },
 "nbformat": 4,
 "nbformat_minor": 5
}
