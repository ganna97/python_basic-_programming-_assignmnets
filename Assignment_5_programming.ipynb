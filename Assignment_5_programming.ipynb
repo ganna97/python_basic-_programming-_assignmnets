{
 "cells": [
  {
   "cell_type": "markdown",
   "id": "9b987466",
   "metadata": {},
   "source": [
    "# 1. Write a Python Program to Find LCM?\n"
   ]
  },
  {
   "cell_type": "code",
   "execution_count": 127,
   "id": "4f2a14f8",
   "metadata": {},
   "outputs": [
    {
     "name": "stdout",
     "output_type": "stream",
     "text": [
      "34\n",
      "54\n",
      "HCF is 2 and LCM is 918.0\n"
     ]
    }
   ],
   "source": [
    "HCF=1\n",
    "a= int(input())\n",
    "b= int(input())\n",
    "for i in range(2, min([a,b])):\n",
    "    if (a%i ==0 and b%i==0):\n",
    "        HCF=i\n",
    "LCM= (a*b)/HCF\n",
    "print(\"HCF is {} and LCM is {}\".format(HCF, LCM))"
   ]
  },
  {
   "cell_type": "code",
   "execution_count": null,
   "id": "be7e82f0",
   "metadata": {},
   "outputs": [],
   "source": []
  },
  {
   "cell_type": "markdown",
   "id": "1ef410b8",
   "metadata": {},
   "source": [
    "# 2. Write a Python Program to Find HCF?\n"
   ]
  },
  {
   "cell_type": "code",
   "execution_count": 125,
   "id": "eb469b04",
   "metadata": {},
   "outputs": [
    {
     "name": "stdout",
     "output_type": "stream",
     "text": [
      "4\n",
      "5\n",
      "1\n"
     ]
    }
   ],
   "source": [
    "HCF=1\n",
    "a= int(input())\n",
    "b= int(input())\n",
    "for i in range(2, min([a,b])):\n",
    "    if (a%i ==0 and b%i==0):\n",
    "        HCF=i\n",
    "print(HCF)\n",
    "        "
   ]
  },
  {
   "cell_type": "markdown",
   "id": "0ce32ef7",
   "metadata": {},
   "source": [
    "# 3. Write a Python Program to Convert Decimal to Binary, Octal and Hexadecimal?\n"
   ]
  },
  {
   "cell_type": "code",
   "execution_count": 119,
   "id": "9fbf3219",
   "metadata": {},
   "outputs": [
    {
     "name": "stdout",
     "output_type": "stream",
     "text": [
      " 1 : Decimal to Binary \n",
      " 2 : Decimal to Octal \n",
      " 3 : Decimal to Hexa Decimal\n",
      "1\n",
      "selected decimal to binary converter!\n",
      "enter the Decimal Number: 45\n",
      "101101\n"
     ]
    }
   ],
   "source": [
    "print(\" 1 : Decimal to Binary\", \"\\n\", \"2 : Decimal to Octal\", \"\\n\", \"3 : Decimal to Hexa Decimal\")\n",
    "operation= int(input())\n",
    "if operation==1:\n",
    "    def binary():\n",
    "        print(\"selected decimal to binary converter!\")\n",
    "        n=int(input(\"enter the Decimal Number: \"))\n",
    "        x=\"\"\n",
    "        while n>0:\n",
    "            i=n%2\n",
    "            x=x+str(i)\n",
    "            n=n//2\n",
    "        x=x[::-1]\n",
    "        print(x)\n",
    "    binary()\n",
    "    \n",
    "elif operation==2:\n",
    "    def octal():\n",
    "        print(\"selected decimal to octal converter!\")\n",
    "        n=int(input(\"enter the Decimal Number: \"))\n",
    "        x=\"\"\n",
    "        while n>0:\n",
    "            i=n%8\n",
    "            x=x+str(i)\n",
    "            n=n//8\n",
    "        x=x[::-1]\n",
    "        print(x)\n",
    "    octal()\n",
    "        \n",
    "elif operation==3:\n",
    "    def HexDec():\n",
    "        print(\"selected decimal to Hexa Decimal converter!\")\n",
    "        n=int(input(\"enter the Decimal Number: \"))\n",
    "        d = {'10': 'A', '11':'B', '12': 'C', '13': 'D', 'D': '14', '15': \"F\" }\n",
    "        x=\"\"\n",
    "        while n>0:\n",
    "            i=n%16\n",
    "            if i>9:\n",
    "                txt=str(i) \n",
    "                z=d[txt]\n",
    "                y=txt.replace(txt,z)\n",
    "                x=x+y\n",
    "            else:\n",
    "                txt=str(i)\n",
    "                x=x+txt\n",
    "            n=n//16\n",
    "        x=x[::-1]\n",
    "        print(x) \n",
    "    HexDec()\n",
    "else:\n",
    "    print(\"please select appropriate operation 1 to 3 only.\")"
   ]
  },
  {
   "cell_type": "markdown",
   "id": "39529411",
   "metadata": {},
   "source": [
    "# 4. Write a Python Program To Find ASCII value of a character?\n"
   ]
  },
  {
   "cell_type": "code",
   "execution_count": 5,
   "id": "61e80f3b",
   "metadata": {},
   "outputs": [
    {
     "name": "stdout",
     "output_type": "stream",
     "text": [
      "enter the value: #\n"
     ]
    },
    {
     "data": {
      "text/plain": [
       "35"
      ]
     },
     "execution_count": 5,
     "metadata": {},
     "output_type": "execute_result"
    }
   ],
   "source": [
    "n= input(\"enter the value: \")\n",
    "ord(n)"
   ]
  },
  {
   "cell_type": "markdown",
   "id": "c523c7aa",
   "metadata": {},
   "source": [
    "# 5. Write a Python Program to Make a Simple Calculator with 4 basic mathematical operations?"
   ]
  },
  {
   "cell_type": "code",
   "execution_count": 19,
   "id": "e55e6350",
   "metadata": {},
   "outputs": [
    {
     "name": "stdout",
     "output_type": "stream",
     "text": [
      " 1: Addition \n",
      " 2: Substraction \n",
      " 3: Multiplication \n",
      " 4: Division\n",
      "which operation have to perform: 5\n",
      "select number from 1 to 4 only\n"
     ]
    }
   ],
   "source": [
    "print(\" 1: Addition\", \"\\n\",\"2: Substraction\", \"\\n\", \"3: Multiplication\", \"\\n\", \"4: Division\")\n",
    "operand= int(input(\"which operation have to perform: \"))\n",
    "if operand>4 or operand==0:\n",
    "    print(\"please select a number from 1 to 4 only\")\n",
    "else:\n",
    "    x,y = input().split(\",\")\n",
    "    x=float(x)\n",
    "    y=float(y)\n",
    "    if operand==1:\n",
    "        print(\"you selected addition operation\")\n",
    "        pritn(\"{} + {} = {}\".format(x,y,x+y))\n",
    "    elif operand==2:\n",
    "        print(\"you selected substraction operation\")\n",
    "        print(\"{} - {} = {}\".format(x,y,x-y))\n",
    "    elif operand==3:\n",
    "        print(\"you selected multiplication operation\")\n",
    "        print(\"{} * {} = {}\".format(x,y,x*y))\n",
    "    elif operand==4:\n",
    "        print(\"you selected division operation\")\n",
    "        print(\"{} / {} = {}\".format(x,y,x/y))\n",
    "    else:\n",
    "        pass"
   ]
  },
  {
   "cell_type": "code",
   "execution_count": null,
   "id": "a7df0bae",
   "metadata": {},
   "outputs": [],
   "source": []
  }
 ],
 "metadata": {
  "kernelspec": {
   "display_name": "Python 3 (ipykernel)",
   "language": "python",
   "name": "python3"
  },
  "language_info": {
   "codemirror_mode": {
    "name": "ipython",
    "version": 3
   },
   "file_extension": ".py",
   "mimetype": "text/x-python",
   "name": "python",
   "nbconvert_exporter": "python",
   "pygments_lexer": "ipython3",
   "version": "3.9.12"
  }
 },
 "nbformat": 4,
 "nbformat_minor": 5
}
